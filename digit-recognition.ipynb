{
 "cells": [
  {
   "cell_type": "code",
   "execution_count": 14,
   "metadata": {},
   "outputs": [],
   "source": [
    "import csv\n",
    "from tensorflow import keras\n",
    "from keras.layers import Dense, Conv2D, Flatten\n",
    "from keras.utils import to_categorical\n",
    "import numpy as np\n",
    "import matplotlib.pyplot as plt"
   ]
  },
  {
   "cell_type": "code",
   "execution_count": 15,
   "metadata": {},
   "outputs": [],
   "source": [
    "def get_data(filename):\n",
    "    with open(filename, mode = 'r') as file:\n",
    "        csv_reader = csv.reader(file)\n",
    "\n",
    "        line_count = 0\n",
    "        headers = []\n",
    "        data = []\n",
    "\n",
    "        for row in csv_reader:\n",
    "            if line_count == 0:\n",
    "                headers = row\n",
    "            else:\n",
    "                row = [int(row[i]) for i in range(len(row))]\n",
    "                data.append(row)\n",
    "            line_count += 1\n",
    "\n",
    "        print(f'Processed {line_count - 1} lines of {filename}.')\n",
    "    return headers, data"
   ]
  },
  {
   "cell_type": "code",
   "execution_count": 16,
   "metadata": {},
   "outputs": [],
   "source": [
    "def convert_image(image):\n",
    "    newImage = [[0 for i in range(28)] for i in range(28)]\n",
    "    \n",
    "    for pixel in range(len(image)):\n",
    "        y = pixel // 28\n",
    "        x = pixel % 28\n",
    "        newImage[y][x] = image[pixel]\n",
    "\n",
    "    return newImage\n",
    "\n",
    "def convert_data(dataset):\n",
    "    converted_data = []\n",
    "    \n",
    "    for row in dataset:\n",
    "        converted_data.append(convert_image(row))\n",
    "    \n",
    "    return converted_data"
   ]
  },
  {
   "cell_type": "code",
   "execution_count": 17,
   "metadata": {},
   "outputs": [],
   "source": [
    "def calc_output(data, model):\n",
    "    prediction = model.predict(data)\n",
    "    output = []\n",
    "    \n",
    "    for i in range(len(prediction)):\n",
    "        maximum = max(prediction[i])\n",
    "        for j in range(len(prediction)):\n",
    "            if prediction[i][j] == maximum:\n",
    "                output.append((i+1, j))\n",
    "                break\n",
    "            \n",
    "    return output\n",
    "\n",
    "def output_data(data, model, filename):\n",
    "    output = calc_output(data, model)\n",
    "\n",
    "    with open(filename, mode = 'w', newline='') as file:\n",
    "        csv_writer = csv.writer(file, dialect='excel')\n",
    "        csv_writer.writerow([\"ImageId\",\"Label\"])\n",
    "        csv_writer.writerows(output)\n",
    "\n",
    "        print(f\"Outputted data to {filename}.\")"
   ]
  },
  {
   "cell_type": "code",
   "execution_count": 18,
   "metadata": {},
   "outputs": [
    {
     "name": "stdout",
     "output_type": "stream",
     "text": [
      "Processed 42000 lines of train.csv.\n",
      "Processed 28000 lines of test.csv.\n"
     ]
    }
   ],
   "source": [
    "train_total = get_data(\"train.csv\")[1]\n",
    "test_total = get_data(\"test.csv\")[1]"
   ]
  },
  {
   "cell_type": "code",
   "execution_count": 19,
   "metadata": {},
   "outputs": [],
   "source": [
    "X_train = np.array(convert_data([row[1:] for row in train_total]))\n",
    "y_train = to_categorical(np.array([row[0] for row in train_total]))\n",
    "\n",
    "X_test = np.array(convert_data(test_total))"
   ]
  },
  {
   "cell_type": "code",
   "execution_count": 20,
   "metadata": {},
   "outputs": [],
   "source": [
    "model = keras.Sequential()\n",
    "model.add(Conv2D(64, kernel_size=4, activation='relu', input_shape=(28,28,1)))\n",
    "model.add(Conv2D(32, kernel_size=5, activation='relu'))\n",
    "model.add(Flatten())\n",
    "model.add(Dense(10, activation='softmax'))"
   ]
  },
  {
   "cell_type": "code",
   "execution_count": 21,
   "metadata": {},
   "outputs": [],
   "source": [
    "model.compile(optimizer='adam', loss='categorical_crossentropy', metrics=['accuracy'])"
   ]
  },
  {
   "cell_type": "code",
   "execution_count": 22,
   "metadata": {},
   "outputs": [
    {
     "name": "stdout",
     "output_type": "stream",
     "text": [
      "Epoch 1/3\n",
      "1182/1182 [==============================] - 42s 35ms/step - loss: 0.2899 - accuracy: 0.9421 - val_loss: 0.1063 - val_accuracy: 0.9702\n",
      "Epoch 2/3\n",
      "1182/1182 [==============================] - 38s 32ms/step - loss: 0.0766 - accuracy: 0.9771 - val_loss: 0.0770 - val_accuracy: 0.9740\n",
      "Epoch 3/3\n",
      "1182/1182 [==============================] - 37s 31ms/step - loss: 0.0576 - accuracy: 0.9821 - val_loss: 0.0955 - val_accuracy: 0.9769\n"
     ]
    },
    {
     "data": {
      "text/plain": [
       "<keras.src.callbacks.History at 0x1e882cb5510>"
      ]
     },
     "execution_count": 22,
     "metadata": {},
     "output_type": "execute_result"
    }
   ],
   "source": [
    "model.fit(X_train, y_train, validation_split=0.1, epochs=3)"
   ]
  },
  {
   "cell_type": "code",
   "execution_count": 23,
   "metadata": {},
   "outputs": [
    {
     "name": "stdout",
     "output_type": "stream",
     "text": [
      "Saved model at digit-recognition-kernel-45.keras.\n"
     ]
    }
   ],
   "source": [
    "save_model_location = 'digit-recognition-kernel-45.keras'\n",
    "model.save(save_model_location)\n",
    "print(f'Saved model at {save_model_location}.')"
   ]
  },
  {
   "cell_type": "code",
   "execution_count": 24,
   "metadata": {},
   "outputs": [],
   "source": [
    "retrieve_model_location = save_model_location\n",
    "model = keras.models.load_model(retrieve_model_location)"
   ]
  },
  {
   "cell_type": "code",
   "execution_count": 25,
   "metadata": {},
   "outputs": [
    {
     "name": "stdout",
     "output_type": "stream",
     "text": [
      "875/875 [==============================] - 10s 11ms/step\n",
      "Outputted data to test_output.csv.\n"
     ]
    }
   ],
   "source": [
    "output_data_location = 'test_output.csv'\n",
    "output_data(X_test, model, output_data_location)"
   ]
  },
  {
   "cell_type": "code",
   "execution_count": 26,
   "metadata": {},
   "outputs": [
    {
     "data": {
      "text/plain": [
       "<matplotlib.image.AxesImage at 0x1e882c86150>"
      ]
     },
     "execution_count": 26,
     "metadata": {},
     "output_type": "execute_result"
    },
    {
     "data": {
      "image/png": "[encoded data removed]",
      "text/plain": [
       "<Figure size 640x480 with 1 Axes>"
      ]
     },
     "metadata": {},
     "output_type": "display_data"
    }
   ],
   "source": [
    "image_id = 10\n",
    "plt.imshow(X_test[image_id-1])"
   ]
  }
 ],
 "metadata": {
  "kernelspec": {
   "display_name": "Python 3",
   "language": "python",
   "name": "python3"
  },
  "language_info": {
   "codemirror_mode": {
    "name": "ipython",
    "version": 3
   },
   "file_extension": ".py",
   "mimetype": "text/x-python",
   "name": "python",
   "nbconvert_exporter": "python",
   "pygments_lexer": "ipython3",
   "version": "3.11.7"
  }
 },
 "nbformat": 4,
 "nbformat_minor": 2
}
